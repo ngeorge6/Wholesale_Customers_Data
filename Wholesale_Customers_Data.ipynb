{
  "nbformat": 4,
  "nbformat_minor": 0,
  "metadata": {
    "colab": {
      "name": "Wholesale_Customers_Data.ipynb",
      "provenance": [],
      "collapsed_sections": []
    },
    "kernelspec": {
      "name": "python3",
      "display_name": "Python 3"
    },
    "accelerator": "GPU"
  },
  "cells": [
    {
      "cell_type": "code",
      "metadata": {
        "id": "w1hDk9hDvOH7",
        "colab_type": "code",
        "colab": {
          "base_uri": "https://localhost:8080/",
          "height": 144
        },
        "outputId": "eedf1317-7ad8-42dd-b3b2-d056345cda9f"
      },
      "source": [
        "import pandas as pd\n",
        "import numpy as np\n",
        "\n",
        "from sklearn.cluster import KMeans\n",
        "# Calculate silhouette_score\n",
        "from sklearn.metrics import silhouette_score\n",
        "\n",
        "import warnings\n",
        "warnings.filterwarnings(\"ignore\")\n",
        "\n",
        "from google.colab import drive\n",
        "drive.mount('/gdrive')\n",
        "#Change current working directory to gdrive\n",
        "%cd /gdrive\n"
      ],
      "execution_count": null,
      "outputs": [
        {
          "output_type": "stream",
          "text": [
            "Go to this URL in a browser: https://accounts.google.com/o/oauth2/auth?client_id=947318989803-6bn6qk8qdgf4n4g3pfee6491hc0brc4i.apps.googleusercontent.com&redirect_uri=urn%3aietf%3awg%3aoauth%3a2.0%3aoob&response_type=code&scope=email%20https%3a%2f%2fwww.googleapis.com%2fauth%2fdocs.test%20https%3a%2f%2fwww.googleapis.com%2fauth%2fdrive%20https%3a%2f%2fwww.googleapis.com%2fauth%2fdrive.photos.readonly%20https%3a%2f%2fwww.googleapis.com%2fauth%2fpeopleapi.readonly\n",
            "\n",
            "Enter your authorization code:\n",
            "··········\n",
            "Mounted at /gdrive\n",
            "/gdrive\n"
          ],
          "name": "stdout"
        }
      ]
    },
    {
      "cell_type": "code",
      "metadata": {
        "id": "BMwGQK7KAd7T",
        "colab_type": "code",
        "colab": {
          "base_uri": "https://localhost:8080/",
          "height": 35
        },
        "outputId": "8af03f68-c824-4356-b65b-76da28e84730"
      },
      "source": [
        "#Read files\n",
        "trainfile = r'/gdrive/My Drive/CIS 508/Assignment/HW4/Wholesale_Customers_Data.csv'\n",
        "trainData = pd.read_csv(trainfile) #creates a dataframe\n",
        "print(trainData.shape)"
      ],
      "execution_count": null,
      "outputs": [
        {
          "output_type": "stream",
          "text": [
            "(440, 8)\n"
          ],
          "name": "stdout"
        }
      ]
    },
    {
      "cell_type": "code",
      "metadata": {
        "id": "SWOTk6C1Ao45",
        "colab_type": "code",
        "colab": {
          "base_uri": "https://localhost:8080/",
          "height": 35
        },
        "outputId": "76f30f12-26fc-4a89-cdee-9217fc7e248f"
      },
      "source": [
        "#Remove Channel and Region Column\n",
        "X_train = trainData.drop([\"Channel\",\"Region\"], axis=1)\n",
        "# X_train = X_train.drop([\"Region\"], axis=1)\n",
        "print(X_train.shape)"
      ],
      "execution_count": null,
      "outputs": [
        {
          "output_type": "stream",
          "text": [
            "(440, 6)\n"
          ],
          "name": "stdout"
        }
      ]
    },
    {
      "cell_type": "code",
      "metadata": {
        "id": "-Yd724taAv3o",
        "colab_type": "code",
        "colab": {
          "base_uri": "https://localhost:8080/",
          "height": 53
        },
        "outputId": "e32d02b1-2dc3-40c4-ed85-555e479181a1"
      },
      "source": [
        "#K-Means Clustering ========================================================================\n",
        "#Default Mode - K=8\n",
        "kmeans = KMeans()\n",
        "kmeans.fit(X_train)\n",
        "print(X_train.shape)\n",
        "print(silhouette_score(X_train, kmeans.labels_))"
      ],
      "execution_count": null,
      "outputs": [
        {
          "output_type": "stream",
          "text": [
            "(440, 7)\n",
            "0.3519149945549108\n"
          ],
          "name": "stdout"
        }
      ]
    },
    {
      "cell_type": "code",
      "metadata": {
        "id": "ZbHRfy6u0Bu5",
        "colab_type": "code",
        "colab": {
          "base_uri": "https://localhost:8080/",
          "height": 142
        },
        "outputId": "b00c4a18-a0f0-4569-f5ea-50a2c8266cdc"
      },
      "source": [
        "#Add Cluster Number to each datapoint + save file\n",
        "df_kmeans=X_train\n",
        "kmeans_predict_train=kmeans.predict(df_kmeans)\n",
        "df_kmeans['Cluster Number']=kmeans_predict_train\n",
        "print(df_kmeans.shape)\n",
        "print(df_kmeans.head())\n",
        "export_csv = df_kmeans.to_csv(r'/gdrive/My Drive/CIS 508/Assignment/HW4/KmeansClusters_WCD-8.csv')"
      ],
      "execution_count": null,
      "outputs": [
        {
          "output_type": "stream",
          "text": [
            "(440, 7)\n",
            "   Fresh  Milk  Grocery  Frozen  Detergents_Paper  Delicassen  Cluster Number\n",
            "0  12669  9656     7561     214              2674        1338              13\n",
            "1   7057  9810     9568    1762              3293        1776               9\n",
            "2   6353  8808     7684    2405              3516        7844              13\n",
            "3  13265  1196     4221    6404               507        1788              10\n",
            "4  22615  5410     7198    3915              1777        5185              16\n"
          ],
          "name": "stdout"
        }
      ]
    },
    {
      "cell_type": "code",
      "metadata": {
        "id": "TR10pJaLuFVM",
        "colab_type": "code",
        "colab": {
          "base_uri": "https://localhost:8080/",
          "height": 53
        },
        "outputId": "d9e776b6-e3ed-4777-c9f3-318c3255e753"
      },
      "source": [
        "#K-Means Clustering ========================================================================\n",
        "# K=20\n",
        "kmeans = KMeans(n_clusters=20, init='random', algorithm='elkan')\n",
        "kmeans.fit(X_train)\n",
        "kmeans.labels_\n",
        "print(X_train.shape)\n",
        "#Print Silhouette measure\n",
        "print(silhouette_score(X_train, kmeans.labels_))"
      ],
      "execution_count": null,
      "outputs": [
        {
          "output_type": "stream",
          "text": [
            "(440, 7)\n",
            "0.22374863518849686\n"
          ],
          "name": "stdout"
        }
      ]
    },
    {
      "cell_type": "code",
      "metadata": {
        "id": "qNI2J3V1L4b8",
        "colab_type": "code",
        "colab": {
          "base_uri": "https://localhost:8080/",
          "height": 142
        },
        "outputId": "67304db4-e0a6-47cb-b52f-a4f4999d365c"
      },
      "source": [
        "#Add Cluster Number to each datapoint + save file\n",
        "df_kmeans=X_train\n",
        "kmeans_predict_train=kmeans.predict(X_train)\n",
        "\n",
        "df_kmeans['Cluster Number']=kmeans_predict_train\n",
        "print(df_kmeans.shape)\n",
        "print(df_kmeans.head())\n",
        "export_csv = df_kmeans.to_csv(r'/gdrive/My Drive/CIS 508/Assignment/HW4/KmeansClusters_WCD-20.csv')"
      ],
      "execution_count": null,
      "outputs": [
        {
          "output_type": "stream",
          "text": [
            "(440, 7)\n",
            "   Fresh  Milk  Grocery  Frozen  Detergents_Paper  Delicassen  Cluster Number\n",
            "0  12669  9656     7561     214              2674        1338               1\n",
            "1   7057  9810     9568    1762              3293        1776               0\n",
            "2   6353  8808     7684    2405              3516        7844               0\n",
            "3  13265  1196     4221    6404               507        1788               1\n",
            "4  22615  5410     7198    3915              1777        5185               1\n"
          ],
          "name": "stdout"
        }
      ]
    }
  ]
}